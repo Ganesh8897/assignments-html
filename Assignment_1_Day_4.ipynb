{
  "nbformat": 4,
  "nbformat_minor": 0,
  "metadata": {
    "colab": {
      "name": "Assignment-1-Day-4.ipynb",
      "private_outputs": true,
      "provenance": [],
      "collapsed_sections": [],
      "authorship_tag": "ABX9TyOBLaF6pww0155am8PjNbjI",
      "include_colab_link": true
    },
    "kernelspec": {
      "name": "python3",
      "display_name": "Python 3"
    },
    "language_info": {
      "name": "python"
    }
  },
  "cells": [
    {
      "cell_type": "markdown",
      "metadata": {
        "id": "view-in-github",
        "colab_type": "text"
      },
      "source": [
        "<a href=\"https://colab.research.google.com/github/Ganesh8897/assignments-html/blob/main/Assignment_1_Day_4.ipynb\" target=\"_parent\"><img src=\"https://colab.research.google.com/assets/colab-badge.svg\" alt=\"Open In Colab\"/></a>"
      ]
    },
    {
      "cell_type": "code",
      "metadata": {
        "id": "SGJQSMqFCj-B"
      },
      "source": [
        "#Assignment-1-Day-4\n",
        "#Plane Landing\n",
        "\n",
        "# Condition-1\n",
        "altitude=int(input(\"Enter the current altitude: \\n\"))\n",
        "\n",
        "if altitude <= 1000:\n",
        "  print(\"its safe for landing.\")\n",
        "elif altitude > 1000 and altitude<5000:\n",
        "  print(\"Come down to 1000\")\n",
        "else:\n",
        "  print(\"Turn Around the Plane\")\n"
      ],
      "execution_count": null,
      "outputs": []
    },
    {
      "cell_type": "code",
      "metadata": {
        "id": "csg7ak-vELCP"
      },
      "source": [
        "#Assignment-1-Day-4\n",
        "#Plane Landing\n",
        "\n",
        "# Condition-2\n",
        "altitude=int(input(\"Enter the current altitude: \\n\"))\n",
        "\n",
        "if altitude <= 1000:\n",
        "  print(\"its safe for landing.\")\n",
        "elif altitude > 1000 and altitude<5000:\n",
        "  print(\"Come down to 1000\")\n",
        "else:\n",
        "  print(\"Turn Around the Plane\")"
      ],
      "execution_count": null,
      "outputs": []
    },
    {
      "cell_type": "code",
      "metadata": {
        "id": "NTJFG-7XESk1"
      },
      "source": [
        "#Assignment-1-Day-4\n",
        "#Plane Landing\n",
        "\n",
        "# Condition-3\n",
        "altitude=int(input(\"Enter the current altitude: \\n\"))\n",
        "\n",
        "if altitude <= 1000:\n",
        "  print(\"its safe for landing.\")\n",
        "elif altitude > 1000 and altitude<5000:\n",
        "  print(\"Come down to 1000\")\n",
        "else:\n",
        "  print(\"Turn Around the Plane\")"
      ],
      "execution_count": null,
      "outputs": []
    }
  ]
}